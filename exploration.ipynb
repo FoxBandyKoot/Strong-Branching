{
 "cells": [
  {
   "cell_type": "code",
   "execution_count": 1,
   "metadata": {},
   "outputs": [
    {
     "name": "stdout",
     "output_type": "stream",
     "text": [
      "Index(['node_number', 'parent_node_number', 'var_cost', 'frac_val',\n",
      "       'fraction_conflicting_columns',\n",
      "       'fraction_conflicting_columns_positive_value',\n",
      "       'min_cost_conflicting_column',\n",
      "       'min_cost_conflicting_column_positive_value', 'number_cols_in_mp',\n",
      "       'dual_cost_min', 'dual_cost_max', 'dual_cost_avg',\n",
      "       'frac_pairing_tasks_fixed', 'nb_pairing_tasks', 'value'],\n",
      "      dtype='object')\n"
     ]
    },
    {
     "data": {
      "text/html": [
       "<div>\n",
       "<style scoped>\n",
       "    .dataframe tbody tr th:only-of-type {\n",
       "        vertical-align: middle;\n",
       "    }\n",
       "\n",
       "    .dataframe tbody tr th {\n",
       "        vertical-align: top;\n",
       "    }\n",
       "\n",
       "    .dataframe thead th {\n",
       "        text-align: right;\n",
       "    }\n",
       "</style>\n",
       "<table border=\"1\" class=\"dataframe\">\n",
       "  <thead>\n",
       "    <tr style=\"text-align: right;\">\n",
       "      <th></th>\n",
       "      <th>node_number</th>\n",
       "      <th>parent_node_number</th>\n",
       "      <th>var_cost</th>\n",
       "      <th>frac_val</th>\n",
       "      <th>fraction_conflicting_columns</th>\n",
       "      <th>fraction_conflicting_columns_positive_value</th>\n",
       "      <th>min_cost_conflicting_column</th>\n",
       "      <th>min_cost_conflicting_column_positive_value</th>\n",
       "      <th>number_cols_in_mp</th>\n",
       "      <th>dual_cost_min</th>\n",
       "      <th>dual_cost_max</th>\n",
       "      <th>dual_cost_avg</th>\n",
       "      <th>frac_pairing_tasks_fixed</th>\n",
       "      <th>nb_pairing_tasks</th>\n",
       "      <th>value</th>\n",
       "    </tr>\n",
       "  </thead>\n",
       "  <tbody>\n",
       "    <tr>\n",
       "      <th>0</th>\n",
       "      <td>1</td>\n",
       "      <td>0</td>\n",
       "      <td>-1.302312</td>\n",
       "      <td>0.985425</td>\n",
       "      <td>0.003767</td>\n",
       "      <td>0.000070</td>\n",
       "      <td>-1.433629</td>\n",
       "      <td>-1.304982</td>\n",
       "      <td>1.174764</td>\n",
       "      <td>0.748733</td>\n",
       "      <td>-1.429213</td>\n",
       "      <td>-0.359675</td>\n",
       "      <td>0.427115</td>\n",
       "      <td>-1.221345</td>\n",
       "      <td>0.046033</td>\n",
       "    </tr>\n",
       "    <tr>\n",
       "      <th>1</th>\n",
       "      <td>2</td>\n",
       "      <td>0</td>\n",
       "      <td>-1.353461</td>\n",
       "      <td>0.948426</td>\n",
       "      <td>0.006654</td>\n",
       "      <td>0.000070</td>\n",
       "      <td>-1.356235</td>\n",
       "      <td>-1.356235</td>\n",
       "      <td>1.174764</td>\n",
       "      <td>0.748733</td>\n",
       "      <td>-0.451969</td>\n",
       "      <td>-0.547714</td>\n",
       "      <td>0.427115</td>\n",
       "      <td>-1.221345</td>\n",
       "      <td>0.011431</td>\n",
       "    </tr>\n",
       "    <tr>\n",
       "      <th>2</th>\n",
       "      <td>3</td>\n",
       "      <td>0</td>\n",
       "      <td>-0.109518</td>\n",
       "      <td>0.948220</td>\n",
       "      <td>0.025595</td>\n",
       "      <td>0.000141</td>\n",
       "      <td>-1.442342</td>\n",
       "      <td>-0.109743</td>\n",
       "      <td>1.174764</td>\n",
       "      <td>-0.957945</td>\n",
       "      <td>0.216687</td>\n",
       "      <td>-0.282901</td>\n",
       "      <td>0.427115</td>\n",
       "      <td>-0.172952</td>\n",
       "      <td>0.001585</td>\n",
       "    </tr>\n",
       "    <tr>\n",
       "      <th>3</th>\n",
       "      <td>4</td>\n",
       "      <td>0</td>\n",
       "      <td>0.234203</td>\n",
       "      <td>0.945721</td>\n",
       "      <td>0.015209</td>\n",
       "      <td>0.000141</td>\n",
       "      <td>-1.026161</td>\n",
       "      <td>0.232633</td>\n",
       "      <td>1.174764</td>\n",
       "      <td>-1.202273</td>\n",
       "      <td>1.212961</td>\n",
       "      <td>1.738005</td>\n",
       "      <td>0.427115</td>\n",
       "      <td>-0.435050</td>\n",
       "      <td>0.000737</td>\n",
       "    </tr>\n",
       "    <tr>\n",
       "      <th>4</th>\n",
       "      <td>5</td>\n",
       "      <td>0</td>\n",
       "      <td>-1.353461</td>\n",
       "      <td>0.938084</td>\n",
       "      <td>0.005140</td>\n",
       "      <td>0.000070</td>\n",
       "      <td>-1.356235</td>\n",
       "      <td>-1.356235</td>\n",
       "      <td>1.174764</td>\n",
       "      <td>0.662751</td>\n",
       "      <td>0.451534</td>\n",
       "      <td>-0.547714</td>\n",
       "      <td>0.427115</td>\n",
       "      <td>-1.221345</td>\n",
       "      <td>0.000135</td>\n",
       "    </tr>\n",
       "  </tbody>\n",
       "</table>\n",
       "</div>"
      ],
      "text/plain": [
       "   node_number  parent_node_number  var_cost  frac_val  \\\n",
       "0            1                   0 -1.302312  0.985425   \n",
       "1            2                   0 -1.353461  0.948426   \n",
       "2            3                   0 -0.109518  0.948220   \n",
       "3            4                   0  0.234203  0.945721   \n",
       "4            5                   0 -1.353461  0.938084   \n",
       "\n",
       "   fraction_conflicting_columns  fraction_conflicting_columns_positive_value  \\\n",
       "0                      0.003767                                     0.000070   \n",
       "1                      0.006654                                     0.000070   \n",
       "2                      0.025595                                     0.000141   \n",
       "3                      0.015209                                     0.000141   \n",
       "4                      0.005140                                     0.000070   \n",
       "\n",
       "   min_cost_conflicting_column  min_cost_conflicting_column_positive_value  \\\n",
       "0                    -1.433629                                   -1.304982   \n",
       "1                    -1.356235                                   -1.356235   \n",
       "2                    -1.442342                                   -0.109743   \n",
       "3                    -1.026161                                    0.232633   \n",
       "4                    -1.356235                                   -1.356235   \n",
       "\n",
       "   number_cols_in_mp  dual_cost_min  dual_cost_max  dual_cost_avg  \\\n",
       "0           1.174764       0.748733      -1.429213      -0.359675   \n",
       "1           1.174764       0.748733      -0.451969      -0.547714   \n",
       "2           1.174764      -0.957945       0.216687      -0.282901   \n",
       "3           1.174764      -1.202273       1.212961       1.738005   \n",
       "4           1.174764       0.662751       0.451534      -0.547714   \n",
       "\n",
       "   frac_pairing_tasks_fixed  nb_pairing_tasks     value  \n",
       "0                  0.427115         -1.221345  0.046033  \n",
       "1                  0.427115         -1.221345  0.011431  \n",
       "2                  0.427115         -0.172952  0.001585  \n",
       "3                  0.427115         -0.435050  0.000737  \n",
       "4                  0.427115         -1.221345  0.000135  "
      ]
     },
     "execution_count": 1,
     "metadata": {},
     "output_type": "execute_result"
    }
   ],
   "source": [
    "import pylab\n",
    "import pandas as pd\n",
    "import matplotlib.pyplot as plt\n",
    "import numpy as np\n",
    "\n",
    "file = 'data/first_samples/projet_ML_branch/labels_NW_727_1_1'\n",
    "file = 'data/first_samples/normalized/labels_NW_727_1_1'\n",
    "file = 'data/second_samples/normalized/train/labels_NW_319_test_1_2_win_2'\n",
    "file = 'data/second_samples/normalized/train/labels_NW_319_test_1_2_win_3'\n",
    "pylab.rcParams['figure.figsize'] = (12, 5)\n",
    "\n",
    "#df = pd.read_csv(file, sep='\\t')\n",
    "df = pd.read_csv(file)\n",
    "print(df.columns)\n",
    "df.head()"
   ]
  },
  {
   "cell_type": "code",
   "execution_count": 2,
   "metadata": {},
   "outputs": [
    {
     "data": {
      "image/png": "[encoded data removed]",
      "text/plain": [
       "<Figure size 864x360 with 1 Axes>"
      ]
     },
     "metadata": {
      "needs_background": "light"
     },
     "output_type": "display_data"
    }
   ],
   "source": [
    "X = df['node_number'].values\n",
    "Y = df['value'].values\n",
    "plt.plot(X, Y, '.', label='Value')\n",
    "\n",
    "df_temp = df[['parent_node_number', 'value']].groupby('parent_node_number').mean()\n",
    "X, Y = df_temp.index, df_temp['value']\n",
    "plt.plot(X, Y, '.-', label='Mean value given parent node')\n",
    "\n",
    "plt.xlabel('Node number')\n",
    "plt.ylabel('Value')\n",
    "plt.title('Value distribution')\n",
    "plt.legend()\n",
    "\n",
    "plt.show()"
   ]
  },
  {
   "cell_type": "code",
   "execution_count": 3,
   "metadata": {},
   "outputs": [
    {
     "data": {
      "image/png": "[encoded data removed]",
      "text/plain": [
       "<Figure size 864x360 with 2 Axes>"
      ]
     },
     "metadata": {
      "needs_background": "light"
     },
     "output_type": "display_data"
    },
    {
     "name": "stdout",
     "output_type": "stream",
     "text": [
      "Min: 0.00\tMax: 0.15\n",
      "Mean: 0.01\t25%: 0.00\t75%: 0.01\n"
     ]
    }
   ],
   "source": [
    "df_temp = df[['parent_node_number', 'value']].groupby('parent_node_number')\n",
    "Y = df_temp.std()['value']\n",
    "X = df_temp.std().index\n",
    "\n",
    "plt.subplot(1, 2, 1)\n",
    "plt.plot(X, Y, '.-', label='Std given a parent node')\n",
    "plt.title('Standard deviation distribution')\n",
    "plt.xlabel('Parent node number')\n",
    "plt.ylabel('Standard deviation')\n",
    "\n",
    "plt.subplot(1, 2, 2)\n",
    "plt.hist(Y, bins=15)\n",
    "plt.title('Standard deviation histogram')\n",
    "plt.xlabel('Standard deviation')\n",
    "\n",
    "plt.show()\n",
    "\n",
    "print(f'Min: {min(Y):.2f}\\tMax: {max(Y):.2f}')\n",
    "q = np.quantile(Y, [0.25, 0.5, 0.75])\n",
    "print(f'Mean: {q[1]:.2f}\\t25%: {q[0]:.2f}\\t75%: {q[2]:.2f}')"
   ]
  },
  {
   "cell_type": "markdown",
   "metadata": {},
   "source": [
    "# TODO\n",
    "* Nombre de noeuds enfants qui ont la même valeur maximale\n",
    "* Histogramme des écarts entre le meilleur enfant et le 2eme meilleur (lorsqu'il y a une différence)\n",
    "* Histogramme des écarts entre le meilleur enfant et le pire (lorsqu'il y a une différence)"
   ]
  },
  {
   "cell_type": "code",
   "execution_count": 4,
   "metadata": {},
   "outputs": [
    {
     "name": "stdout",
     "output_type": "stream",
     "text": [
      "Number of parents: 27,873\n",
      "Wall time: 1min 3s\n"
     ]
    }
   ],
   "source": [
    "%%time\n",
    "\n",
    "import os\n",
    "\n",
    "import pylab\n",
    "import pandas as pd\n",
    "import matplotlib.pyplot as plt\n",
    "import numpy as np\n",
    "\n",
    "from sb_utils.read_data import get_trees\n",
    "\n",
    "path = 'data/second_samples/normalized/train/'\n",
    "trees = get_trees(path)\n",
    "total_len = sum([len(t) for t in trees.values()])\n",
    "print(f'Number of parents: {total_len:,}')"
   ]
  },
  {
   "cell_type": "code",
   "execution_count": 15,
   "metadata": {},
   "outputs": [
    {
     "name": "stdout",
     "output_type": "stream",
     "text": [
      "{1: 27371, 2: 334, 3: 81, 4: 49, 5: 38}\n",
      "Total maximal childs: 28,668\n",
      "% of dupplicates: 2.9%\n"
     ]
    }
   ],
   "source": [
    "def count_equals(tree):\n",
    "    total = []\n",
    "    for parent_node in tree.values():\n",
    "        max_v = max(c.value for c in parent_node.children_nodes)\n",
    "        total.append(len([c for c in parent_node.children_nodes\n",
    "                          if c.value == max_v]))\n",
    "    return total\n",
    "\n",
    "total_count = {i: 0 for i in range(1, 6)}\n",
    "for t in trees.values():\n",
    "    for v in count_equals(t):\n",
    "        total_count[v] += 1\n",
    "print(total_count)\n",
    "\n",
    "total_maximal_childs = sum(sum(count_equals(t)) for t in trees.values())\n",
    "print(f'Total maximal childs: {total_maximal_childs:,}')\n",
    "dupp = (total_maximal_childs - total_len) / total_len\n",
    "print(f'% of dupplicates: {dupp * 100:.1f}%')"
   ]
  },
  {
   "cell_type": "code",
   "execution_count": 33,
   "metadata": {},
   "outputs": [
    {
     "data": {
      "image/png": "[encoded data removed]",
      "text/plain": [
       "<Figure size 864x360 with 1 Axes>"
      ]
     },
     "metadata": {
      "needs_background": "light"
     },
     "output_type": "display_data"
    },
    {
     "name": "stdout",
     "output_type": "stream",
     "text": [
      "Pour les écarts avec le deuxième meilleur:\n",
      "Moyenne: 0.0183\n",
      "Deviation: 0.0563\n",
      "Minimum (après 0): 4.41e-16\n",
      "Maximum: 0.9786\n",
      "Quantile 10%: 8.28e-05\n",
      "\n",
      "Pour les écarts avec le plus mauvais:\n",
      "Moyenne: 0.0412\n",
      "Deviation: 0.0903\n",
      "Minimum (après 0): 4.41e-16\n",
      "Maximum: 0.9787\n",
      "Quantile 10%: 1.09e-03\n"
     ]
    }
   ],
   "source": [
    "def ecart_2nd(tree):\n",
    "    ecarts = []\n",
    "    for parent_node in tree.values():\n",
    "        max_v = max(c.value for c in parent_node.children_nodes)\n",
    "        others = [c.value for c in parent_node.children_nodes\n",
    "                  if c.value != max_v]\n",
    "        others_v = max(others) if others else max_v\n",
    "        ecarts.append(max_v - others_v)\n",
    "    return ecarts\n",
    "\n",
    "def ecart_worst(tree):\n",
    "    ecarts = []\n",
    "    for parent_node in tree.values():\n",
    "        max_v = max(c.value for c in parent_node.children_nodes)\n",
    "        min_v = min(c.value for c in parent_node.children_nodes)\n",
    "        ecarts.append(max_v - min_v)\n",
    "    \n",
    "    return ecarts\n",
    "\n",
    "def get_stats(ecarts):\n",
    "    mean = np.mean(ecarts)\n",
    "    std = np.std(ecarts)\n",
    "    mini = min(e for e in ecarts if e != 0)\n",
    "    maxi = max(ecarts)\n",
    "    ten_prct = np.quantile([e for e in ecarts if e != 0], 0.10)\n",
    "    \n",
    "    print(f'Moyenne: {mean:.4f}')\n",
    "    print(f'Deviation: {std:.4f}')\n",
    "    print(f'Minimum (après 0): {mini:.2e}')\n",
    "    print(f'Maximum: {maxi:.4f}')\n",
    "    print(f'Quantile 10%: {ten_prct:.2e}')\n",
    "\n",
    "mean_ecarts = [ecart_2nd(t) for t in trees.values()]\n",
    "mean_ecarts = [sum(e) / len(e) for e in mean_ecarts]\n",
    "plt.hist(mean_ecarts, bins=10, label='Avec le deuxième meilleur', alpha=0.7)\n",
    "\n",
    "mean_ecarts = [ecart_worst(t) for t in trees.values()]\n",
    "mean_ecarts = [sum(e) / len(e) for e in mean_ecarts]\n",
    "plt.hist(mean_ecarts, bins=10, label='Avec le pire enfant', alpha=0.7)\n",
    "\n",
    "plt.title('Histogramme de l\\'écart moyen entre enfants par dataset')\n",
    "plt.legend()\n",
    "plt.show()\n",
    "\n",
    "\n",
    "ecarts = []\n",
    "for t in trees.values():\n",
    "    ecarts.extend(ecart_2nd(t))\n",
    "print('Pour les écarts avec le deuxième meilleur:')\n",
    "get_stats(ecarts)\n",
    "\n",
    "ecarts = []\n",
    "for t in trees.values():\n",
    "    ecarts.extend(ecart_worst(t))\n",
    "print('\\nPour les écarts avec le plus mauvais:')\n",
    "get_stats(ecarts)"
   ]
  },
  {
   "cell_type": "code",
   "execution_count": null,
   "metadata": {},
   "outputs": [],
   "source": []
  }
 ],
 "metadata": {
  "kernelspec": {
   "display_name": "Python 3",
   "language": "python",
   "name": "python3"
  },
  "language_info": {
   "codemirror_mode": {
    "name": "ipython",
    "version": 3
   },
   "file_extension": ".py",
   "mimetype": "text/x-python",
   "name": "python",
   "nbconvert_exporter": "python",
   "pygments_lexer": "ipython3",
   "version": "3.8.3"
  }
 },
 "nbformat": 4,
 "nbformat_minor": 4
}
