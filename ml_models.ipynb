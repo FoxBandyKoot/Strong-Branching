{
 "cells": [
  {
   "cell_type": "markdown",
   "metadata": {},
   "source": [
    "# Simpler ML models\n",
    "On teste ici des modèles de machine learning plus divers que les réseaux de neurones.\n",
    "\n",
    "On veut voir la performance de modèles plus simples, pour avoir une meilleure idée de la performance des NNs."
   ]
  },
  {
   "cell_type": "code",
   "execution_count": 1,
   "metadata": {},
   "outputs": [
    {
     "name": "stdout",
     "output_type": "stream",
     "text": [
      "Number of parents: 27,873\n",
      "Wall time: 1min 4s\n"
     ]
    }
   ],
   "source": [
    "%%time\n",
    "\n",
    "import os\n",
    "\n",
    "import pylab\n",
    "import pandas as pd\n",
    "import matplotlib.pyplot as plt\n",
    "import numpy as np\n",
    "\n",
    "from sb_utils.read_data import get_trees\n",
    "\n",
    "path = 'data/second_samples/normalized/train/'\n",
    "trees = get_trees(path)\n",
    "total_len = sum([len(t) for t in trees.values()])\n",
    "print(f'Number of parents: {total_len:,}')"
   ]
  },
  {
   "cell_type": "code",
   "execution_count": 2,
   "metadata": {},
   "outputs": [
    {
     "name": "stdout",
     "output_type": "stream",
     "text": [
      "Number of rows:  27,371\n",
      "Number of features (childs): (5, 12)\n",
      "Number of features (parents): 13\n",
      "\n",
      "Number of training examples:  21,896\n",
      "Number of validation examples:  5,475\n"
     ]
    }
   ],
   "source": [
    "from sklearn.model_selection import train_test_split\n",
    "\n",
    "def tree_to_dataset(tree, number_of_childs=5):\n",
    "    \"\"\"\n",
    "    Créer une ligne par parent.\n",
    "    Il est possible qu'un parent ait moins d'enfants qu'attendu.\n",
    "    Ils sont ignorés.\n",
    "    \"\"\"\n",
    "    parents, childs, values = [], [], []\n",
    "    \n",
    "    for parent_node in tree.values():\n",
    "        feature_names = sorted(parent_node.features.keys())\n",
    "        final_row = []\n",
    "        final_values = []\n",
    "        \n",
    "        if len(parent_node.children_nodes) != number_of_childs:\n",
    "            continue  # Invalid parent\n",
    "        \n",
    "        for child in parent_node.children_nodes:\n",
    "            child_row = np.array([child.features[f] for f in feature_names])\n",
    "            final_row.append(child_row)\n",
    "            final_values.append(child.value)\n",
    "        \n",
    "        childs.append(np.array(final_row))\n",
    "        values.append(np.array(final_values))\n",
    "        parents.append(np.array([parent_node.features[f] for f in feature_names]\n",
    "                                + [parent_node.value]))\n",
    "        \n",
    "    return np.array(parents), np.array(childs), np.array(values)\n",
    "\n",
    "def build_dataset(trees):\n",
    "    parents, childs, values = [], [], []\n",
    "    for tree in trees.values():\n",
    "        parents_t, childs_t, values_t = tree_to_dataset(tree)\n",
    "        if childs_t.shape[0] != 0:\n",
    "            childs.append(childs_t)\n",
    "            values.append(values_t)\n",
    "            parents.append(parents_t)\n",
    "    \n",
    "    parents = np.concatenate(parents, axis=0)\n",
    "    childs = np.concatenate(childs, axis=0)\n",
    "    values = np.concatenate(values, axis=0)\n",
    "    \n",
    "    return parents, childs, values\n",
    "\n",
    "parents, childs, values = build_dataset(trees)\n",
    "print(f'Number of rows: {childs.shape[0]: ,}')\n",
    "print(f'Number of features (childs): ({childs.shape[1]}, {childs.shape[2]})')\n",
    "print(f'Number of features (parents): {parents.shape[1]}\\n')\n",
    "\n",
    "X = [(p, c) for p, c in zip(parents, childs)]\n",
    "X_train, X_test, y_train, y_test = train_test_split(X, values, test_size=0.2)\n",
    "childs_train, childs_test = [x[1] for x in X_train], [x[1] for x in X_test]\n",
    "parents_train, parents_test = [x[0] for x in X_train], [x[0] for x in X_test]\n",
    "print(f'Number of training examples: {len(childs_train): ,}')\n",
    "print(f'Number of validation examples: {len(childs_test): ,}')"
   ]
  },
  {
   "cell_type": "code",
   "execution_count": 3,
   "metadata": {},
   "outputs": [],
   "source": [
    "def dataset_to_rows(parents, childs):\n",
    "    rows = np.zeros((len(parents) * childs[0].shape[0], parents[0].shape[0] + childs[0].shape[1]))\n",
    "    indice = 0\n",
    "    for parent, children in zip(parents, childs):\n",
    "        for child in children:\n",
    "            rows[indice] = np.append(parent, child, axis=0)\n",
    "            indice += 1\n",
    "    return rows\n",
    "\n",
    "train = dataset_to_rows(parents_train, childs_train)\n",
    "y_train = y_train.reshape(-1)\n",
    "test = dataset_to_rows(parents_test, childs_test)\n",
    "y_test = y_test.reshape(-1)"
   ]
  },
  {
   "cell_type": "markdown",
   "metadata": {},
   "source": [
    "# Evaluation de modèles"
   ]
  },
  {
   "cell_type": "code",
   "execution_count": 6,
   "metadata": {},
   "outputs": [],
   "source": [
    "def eval_sk_model(model, rows, values):\n",
    "    \"\"\"\n",
    "    Retourne l'écart absolu moyen et sa déviation standard.\n",
    "    \"\"\"\n",
    "    precision = np.abs(model.predict(rows) - values)\n",
    "    return np.mean(precision), np.std(precision)"
   ]
  },
  {
   "cell_type": "code",
   "execution_count": 36,
   "metadata": {},
   "outputs": [
    {
     "name": "stdout",
     "output_type": "stream",
     "text": [
      "Train precision: 2.28e-02 (4.10e-02)\n",
      "Test precision: 2.32e-02 (4.18e-02)\n"
     ]
    }
   ],
   "source": [
    "from sklearn.linear_model import LinearRegression\n",
    "\n",
    "model = LinearRegression()\n",
    "model.fit(train, y_train)\n",
    "\n",
    "mean, std = eval_sk_model(model, train, y_train)\n",
    "print(f'Train precision: {mean:.2e} ({std:.2e})')\n",
    "\n",
    "mean, std = eval_sk_model(model, test, y_test)\n",
    "print(f'Test precision: {mean:.2e} ({std:.2e})')"
   ]
  },
  {
   "cell_type": "code",
   "execution_count": 37,
   "metadata": {},
   "outputs": [
    {
     "name": "stdout",
     "output_type": "stream",
     "text": [
      "Train precision: 6.35e-02 (7.85e-02)\n",
      "Test precision: 8.16e-02 (1.01e-01)\n"
     ]
    }
   ],
   "source": [
    "from sklearn.neighbors import KNeighborsRegressor\n",
    "\n",
    "model = KNeighborsRegressor(n_neighbors=5)\n",
    "model.fit(train, y_train)\n",
    "\n",
    "mean, std = eval_sk_model(model, train, y_train)\n",
    "print(f'Train precision: {mean:.2e} ({std:.2e})')\n",
    "\n",
    "mean, std = eval_sk_model(model, test, y_test)\n",
    "print(f'Test precision: {mean:.2e} ({std:.2e})')"
   ]
  },
  {
   "cell_type": "code",
   "execution_count": 11,
   "metadata": {},
   "outputs": [
    {
     "name": "stdout",
     "output_type": "stream",
     "text": [
      "Train precision: 0.00e+00 (0.00e+00)\n",
      "Test precision: 2.07e-02 (5.24e-02)\n"
     ]
    }
   ],
   "source": [
    "from sklearn.tree import DecisionTreeRegressor\n",
    "\n",
    "model = DecisionTreeRegressor(criterion='mae')\n",
    "model.fit(train, y_train)\n",
    "\n",
    "mean, std = eval_sk_model(model, train, y_train)\n",
    "print(f'Train precision: {mean:.2e} ({std:.2e})')\n",
    "\n",
    "mean, std = eval_sk_model(model, test, y_test)\n",
    "print(f'Test precision: {mean:.2e} ({std:.2e})')"
   ]
  },
  {
   "cell_type": "code",
   "execution_count": 7,
   "metadata": {},
   "outputs": [
    {
     "name": "stdout",
     "output_type": "stream",
     "text": [
      "Train precision: 4.30e-02 (3.68e-02)\n",
      "Test precision: 4.36e-02 (3.98e-02)\n"
     ]
    }
   ],
   "source": [
    "from sklearn.svm import SVR\n",
    "\n",
    "model = SVR()\n",
    "model.fit(train, y_train)\n",
    "\n",
    "mean, std = eval_sk_model(model, train, y_train)\n",
    "print(f'Train precision: {mean:.2e} ({std:.2e})')\n",
    "\n",
    "mean, std = eval_sk_model(model, test, y_test)\n",
    "print(f'Test precision: {mean:.2e} ({std:.2e})')"
   ]
  },
  {
   "cell_type": "code",
   "execution_count": 8,
   "metadata": {},
   "outputs": [
    {
     "name": "stdout",
     "output_type": "stream",
     "text": [
      "Train precision: 2.29e-02 (4.10e-02)\n",
      "Test precision: 2.26e-02 (4.17e-02)\n"
     ]
    }
   ],
   "source": [
    "from sklearn.linear_model import BayesianRidge\n",
    "\n",
    "model = BayesianRidge()\n",
    "model.fit(train, y_train)\n",
    "\n",
    "mean, std = eval_sk_model(model, train, y_train)\n",
    "print(f'Train precision: {mean:.2e} ({std:.2e})')\n",
    "\n",
    "mean, std = eval_sk_model(model, test, y_test)\n",
    "print(f'Test precision: {mean:.2e} ({std:.2e})')"
   ]
  },
  {
   "cell_type": "code",
   "execution_count": null,
   "metadata": {},
   "outputs": [],
   "source": []
  }
 ],
 "metadata": {
  "kernelspec": {
   "display_name": "Python 3",
   "language": "python",
   "name": "python3"
  },
  "language_info": {
   "codemirror_mode": {
    "name": "ipython",
    "version": 3
   },
   "file_extension": ".py",
   "mimetype": "text/x-python",
   "name": "python",
   "nbconvert_exporter": "python",
   "pygments_lexer": "ipython3",
   "version": "3.8.3"
  }
 },
 "nbformat": 4,
 "nbformat_minor": 4
}
